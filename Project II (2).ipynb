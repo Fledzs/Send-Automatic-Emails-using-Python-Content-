{
 "cells": [
  {
   "cell_type": "markdown",
   "id": "2cc7b058",
   "metadata": {},
   "source": [
    "# Part One\n"
   ]
  },
  {
   "cell_type": "code",
   "execution_count": 11,
   "id": "9591e11b",
   "metadata": {},
   "outputs": [],
   "source": [
    "from email.message import EmailMessage\n",
    "import ssl\n",
    "import smtplib"
   ]
  },
  {
   "cell_type": "code",
   "execution_count": 8,
   "id": "0aa4f090",
   "metadata": {},
   "outputs": [],
   "source": [
    "email_sender = 'lukeshaweri@gmail.com' #email of the sender\n",
    "email_password = 'ncfp sfmj hrwc wuns'\n",
    "\n",
    "email_receiver = 'writterkk@gmail.com' #email of the receiver"
   ]
  },
  {
   "cell_type": "code",
   "execution_count": 9,
   "id": "69670dbf",
   "metadata": {},
   "outputs": [],
   "source": [
    "# Sending the message\n",
    "subject = \"Welcome to our service.\" #Defining subject and body\n",
    "body = \"\"\"\n",
    "Welcome. How may we assist you today?\n",
    "\"\"\"\n",
    "em = EmailMessage()\n",
    "em['From'] = email_sender\n",
    "em['To'] = email_receiver\n",
    "em['Subject'] = subject\n",
    "em.set_content(body)"
   ]
  },
  {
   "cell_type": "code",
   "execution_count": 10,
   "id": "59d6a664",
   "metadata": {},
   "outputs": [],
   "source": [
    "context = ssl.create_default_context()\n",
    "\n",
    "with smtplib.SMTP_SSL('smtp.gmail.com', 465, context=context) as smtp:\n",
    "    smtp.login(email_sender, email_password)\n",
    "    smtp.send_message(em)\n"
   ]
  },
  {
   "cell_type": "markdown",
   "id": "8beba68a",
   "metadata": {},
   "source": [
    "# Part Two: Password Authentication"
   ]
  },
  {
   "cell_type": "code",
   "execution_count": 1,
   "id": "4e4e3b90",
   "metadata": {},
   "outputs": [],
   "source": [
    "# Part 2: Password Authentication using Python\n",
    "\n",
    "import getpass\n",
    "\n",
    "# Create a dictionary of usernames and their passwords\n",
    "account = {\n",
    "    'user1': 'password1',\n",
    "    'user2': 'password2', 'James': 'Yes2024', 'Monica': 'Looksharp'\n",
    "    # Add more usernames and passwords as needed\n",
    "}"
   ]
  },
  {
   "cell_type": "code",
   "execution_count": 4,
   "id": "6ddc0309",
   "metadata": {},
   "outputs": [
    {
     "name": "stdout",
     "output_type": "stream",
     "text": [
      "Please enter your username: Juliet\n",
      "Username not found.\n"
     ]
    }
   ],
   "source": [
    "# Ask for user input as the username\n",
    "username_input = input(\"Please enter your username: \")\n",
    "# Check if the entered username exists\n",
    "if username_input in account:\n",
    "    # Ask for user input as the password using the getpass module to ensure it is not displayed on the screen\n",
    "    password_input = getpass.getpass(\"Please enter your password: \")\n",
    "    \n",
    "    # Check if the entered password is correct\n",
    "    if password_input == account[username_input]:\n",
    "        print(\"Authentication successful!\")\n",
    "    else:\n",
    "        print(\"Invalid password.\")\n",
    "else:\n",
    "    print(\"Username not found.\")"
   ]
  },
  {
   "cell_type": "code",
   "execution_count": null,
   "id": "d5cb0d1a",
   "metadata": {},
   "outputs": [],
   "source": []
  },
  {
   "cell_type": "code",
   "execution_count": null,
   "id": "cee0d67e",
   "metadata": {},
   "outputs": [],
   "source": []
  }
 ],
 "metadata": {
  "kernelspec": {
   "display_name": "Python 3 (ipykernel)",
   "language": "python",
   "name": "python3"
  },
  "language_info": {
   "codemirror_mode": {
    "name": "ipython",
    "version": 3
   },
   "file_extension": ".py",
   "mimetype": "text/x-python",
   "name": "python",
   "nbconvert_exporter": "python",
   "pygments_lexer": "ipython3",
   "version": "3.11.5"
  }
 },
 "nbformat": 4,
 "nbformat_minor": 5
}
